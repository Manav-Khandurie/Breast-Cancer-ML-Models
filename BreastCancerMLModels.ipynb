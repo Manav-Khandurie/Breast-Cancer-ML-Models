{
  "nbformat": 4,
  "nbformat_minor": 0,
  "metadata": {
    "colab": {
      "provenance": [],
      "toc_visible": true,
      "authorship_tag": "ABX9TyMwOE/FAgW1tYM7JwWg/+aN",
      "include_colab_link": true
    },
    "kernelspec": {
      "name": "python3",
      "display_name": "Python 3"
    },
    "language_info": {
      "name": "python"
    }
  },
  "cells": [
    {
      "cell_type": "markdown",
      "metadata": {
        "id": "view-in-github",
        "colab_type": "text"
      },
      "source": [
        "<a href=\"https://colab.research.google.com/github/Manav-Khandurie/Breast-Cancer-ML-Models/blob/main/BreastCancerMLModels.ipynb\" target=\"_parent\"><img src=\"https://colab.research.google.com/assets/colab-badge.svg\" alt=\"Open In Colab\"/></a>"
      ]
    },
    {
      "cell_type": "markdown",
      "source": [
        "# Breast Cancer Prediction\n",
        "This notebook contains code for all the models used for project"
      ],
      "metadata": {
        "id": "y4aSFIe52A9I"
      }
    },
    {
      "cell_type": "markdown",
      "source": [
        "# Data Collection\n",
        "The dataset used in this analysis is present at\n",
        "https://www.kaggle.com/datasets/reihanenamdari/breast-cancer/code"
      ],
      "metadata": {
        "id": "vIEnftFk2kmF"
      }
    },
    {
      "cell_type": "markdown",
      "source": [
        "# Data PreProcessing"
      ],
      "metadata": {
        "id": "KadXVQV13PJa"
      }
    },
    {
      "cell_type": "code",
      "source": [
        "# Sample Code for Data PreProcessing"
      ],
      "metadata": {
        "id": "McshjgIE3uQ2"
      },
      "execution_count": null,
      "outputs": []
    },
    {
      "cell_type": "code",
      "source": [
        "# Code logic for Data PreProcessing"
      ],
      "metadata": {
        "id": "_tJ3vweY2gDX"
      },
      "execution_count": null,
      "outputs": []
    },
    {
      "cell_type": "markdown",
      "source": [
        "# Exploratory Data Analysis (EDA)\n"
      ],
      "metadata": {
        "id": "4s_xyGQV3glJ"
      }
    },
    {
      "cell_type": "code",
      "source": [
        "# Code logic for EDA"
      ],
      "metadata": {
        "id": "OPyxZyruovs7"
      },
      "execution_count": null,
      "outputs": []
    },
    {
      "cell_type": "markdown",
      "source": [
        "# Model Training"
      ],
      "metadata": {
        "id": "SHX7LMz2o4Wl"
      }
    },
    {
      "cell_type": "code",
      "source": [
        "# Sample code for Model Training"
      ],
      "metadata": {
        "id": "FKqrsLXco_RN"
      },
      "execution_count": null,
      "outputs": []
    },
    {
      "cell_type": "markdown",
      "source": [
        "# Model Testing"
      ],
      "metadata": {
        "id": "gPxayisBouqH"
      }
    },
    {
      "cell_type": "code",
      "source": [
        "#Sample code for Model Testing"
      ],
      "metadata": {
        "id": "ynpw7Dre3vqP"
      },
      "execution_count": null,
      "outputs": []
    },
    {
      "cell_type": "markdown",
      "source": [
        "# Results & Observations"
      ],
      "metadata": {
        "id": "GQBnjysPpFIl"
      }
    },
    {
      "cell_type": "code",
      "source": [
        "# Sample Results"
      ],
      "metadata": {
        "id": "H98iePrOpMC4"
      },
      "execution_count": null,
      "outputs": []
    }
  ]
}